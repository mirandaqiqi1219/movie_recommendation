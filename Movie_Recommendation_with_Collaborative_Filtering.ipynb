{
  "nbformat": 4,
  "nbformat_minor": 0,
  "metadata": {
    "colab": {
      "name": "Movie_Recommendation with Collaborative Filtering.ipynb",
      "version": "0.3.2",
      "provenance": [],
      "collapsed_sections": [],
      "include_colab_link": true
    },
    "kernelspec": {
      "name": "python3",
      "display_name": "Python 3"
    }
  },
  "cells": [
    {
      "cell_type": "markdown",
      "metadata": {
        "id": "view-in-github",
        "colab_type": "text"
      },
      "source": [
        "<a href=\"https://colab.research.google.com/github/mirandaqiqi1219/movie_recommendation/blob/master/Movie_Recommendation_with_Collaborative_Filtering.ipynb\" target=\"_parent\"><img src=\"https://colab.research.google.com/assets/colab-badge.svg\" alt=\"Open In Colab\"/></a>"
      ]
    },
    {
      "metadata": {
        "id": "RL-85Qbr5i-p",
        "colab_type": "text"
      },
      "cell_type": "markdown",
      "source": [
        "##Ingest"
      ]
    },
    {
      "metadata": {
        "id": "0XNpPYQH5Ndg",
        "colab_type": "code",
        "outputId": "8259e5b7-905c-41e9-eea6-21f3a7d841dd",
        "colab": {
          "base_uri": "https://localhost:8080/",
          "height": 204
        }
      },
      "cell_type": "code",
      "source": [
        "#data source: https://www.kaggle.com/c/movie/data\n",
        "import pandas as pd\n",
        "df = pd.read_csv('/content/training_ratings_for_kaggle_comp.csv')\n",
        "df.head()"
      ],
      "execution_count": 0,
      "outputs": [
        {
          "output_type": "execute_result",
          "data": {
            "text/html": [
              "<div>\n",
              "<style scoped>\n",
              "    .dataframe tbody tr th:only-of-type {\n",
              "        vertical-align: middle;\n",
              "    }\n",
              "\n",
              "    .dataframe tbody tr th {\n",
              "        vertical-align: top;\n",
              "    }\n",
              "\n",
              "    .dataframe thead th {\n",
              "        text-align: right;\n",
              "    }\n",
              "</style>\n",
              "<table border=\"1\" class=\"dataframe\">\n",
              "  <thead>\n",
              "    <tr style=\"text-align: right;\">\n",
              "      <th></th>\n",
              "      <th>user</th>\n",
              "      <th>movie</th>\n",
              "      <th>rating</th>\n",
              "      <th>id</th>\n",
              "    </tr>\n",
              "  </thead>\n",
              "  <tbody>\n",
              "    <tr>\n",
              "      <th>0</th>\n",
              "      <td>2783</td>\n",
              "      <td>1253</td>\n",
              "      <td>5</td>\n",
              "      <td>2783_1253</td>\n",
              "    </tr>\n",
              "    <tr>\n",
              "      <th>1</th>\n",
              "      <td>2783</td>\n",
              "      <td>589</td>\n",
              "      <td>5</td>\n",
              "      <td>2783_589</td>\n",
              "    </tr>\n",
              "    <tr>\n",
              "      <th>2</th>\n",
              "      <td>2783</td>\n",
              "      <td>1270</td>\n",
              "      <td>4</td>\n",
              "      <td>2783_1270</td>\n",
              "    </tr>\n",
              "    <tr>\n",
              "      <th>3</th>\n",
              "      <td>2783</td>\n",
              "      <td>1274</td>\n",
              "      <td>4</td>\n",
              "      <td>2783_1274</td>\n",
              "    </tr>\n",
              "    <tr>\n",
              "      <th>4</th>\n",
              "      <td>2783</td>\n",
              "      <td>741</td>\n",
              "      <td>5</td>\n",
              "      <td>2783_741</td>\n",
              "    </tr>\n",
              "  </tbody>\n",
              "</table>\n",
              "</div>"
            ],
            "text/plain": [
              "   user  movie  rating         id\n",
              "0  2783   1253       5  2783_1253\n",
              "1  2783    589       5   2783_589\n",
              "2  2783   1270       4  2783_1270\n",
              "3  2783   1274       4  2783_1274\n",
              "4  2783    741       5   2783_741"
            ]
          },
          "metadata": {
            "tags": []
          },
          "execution_count": 62
        }
      ]
    },
    {
      "metadata": {
        "id": "JqNclpe3w9Jb",
        "colab_type": "code",
        "outputId": "1da70b1a-41fa-4633-a049-9c3e4c25aab9",
        "colab": {
          "base_uri": "https://localhost:8080/",
          "height": 204
        }
      },
      "cell_type": "code",
      "source": [
        "movie_name = pd.read_csv(\"/content/movies_name.csv\")\n",
        "movie_name.head()"
      ],
      "execution_count": 0,
      "outputs": [
        {
          "output_type": "execute_result",
          "data": {
            "text/html": [
              "<div>\n",
              "<style scoped>\n",
              "    .dataframe tbody tr th:only-of-type {\n",
              "        vertical-align: middle;\n",
              "    }\n",
              "\n",
              "    .dataframe tbody tr th {\n",
              "        vertical-align: top;\n",
              "    }\n",
              "\n",
              "    .dataframe thead th {\n",
              "        text-align: right;\n",
              "    }\n",
              "</style>\n",
              "<table border=\"1\" class=\"dataframe\">\n",
              "  <thead>\n",
              "    <tr style=\"text-align: right;\">\n",
              "      <th></th>\n",
              "      <th>movie</th>\n",
              "      <th>names</th>\n",
              "    </tr>\n",
              "  </thead>\n",
              "  <tbody>\n",
              "    <tr>\n",
              "      <th>0</th>\n",
              "      <td>1</td>\n",
              "      <td>1::Toy Story (1995)::Animation|Children's|Comedy</td>\n",
              "    </tr>\n",
              "    <tr>\n",
              "      <th>1</th>\n",
              "      <td>2</td>\n",
              "      <td>2::Jumanji (1995)::Adventure|Children's|Fantasy</td>\n",
              "    </tr>\n",
              "    <tr>\n",
              "      <th>2</th>\n",
              "      <td>3</td>\n",
              "      <td>3::Grumpier Old Men (1995)::Comedy|Romance</td>\n",
              "    </tr>\n",
              "    <tr>\n",
              "      <th>3</th>\n",
              "      <td>4</td>\n",
              "      <td>4::Waiting to Exhale (1995)::Comedy|Drama</td>\n",
              "    </tr>\n",
              "    <tr>\n",
              "      <th>4</th>\n",
              "      <td>5</td>\n",
              "      <td>5::Father of the Bride Part II (1995)::Comedy</td>\n",
              "    </tr>\n",
              "  </tbody>\n",
              "</table>\n",
              "</div>"
            ],
            "text/plain": [
              "   movie                                             names\n",
              "0      1  1::Toy Story (1995)::Animation|Children's|Comedy\n",
              "1      2   2::Jumanji (1995)::Adventure|Children's|Fantasy\n",
              "2      3        3::Grumpier Old Men (1995)::Comedy|Romance\n",
              "3      4         4::Waiting to Exhale (1995)::Comedy|Drama\n",
              "4      5     5::Father of the Bride Part II (1995)::Comedy"
            ]
          },
          "metadata": {
            "tags": []
          },
          "execution_count": 63
        }
      ]
    },
    {
      "metadata": {
        "id": "59clhSFm-D8e",
        "colab_type": "code",
        "outputId": "0f41f88c-aee6-4d1e-caaa-a1aecb84b125",
        "colab": {
          "base_uri": "https://localhost:8080/",
          "height": 204
        }
      },
      "cell_type": "code",
      "source": [
        "#merge movie name table and df\n",
        "with_movie_name = pd.merge(df, movie_name, on='movie')\n",
        "with_movie_name.head()"
      ],
      "execution_count": 0,
      "outputs": [
        {
          "output_type": "execute_result",
          "data": {
            "text/html": [
              "<div>\n",
              "<style scoped>\n",
              "    .dataframe tbody tr th:only-of-type {\n",
              "        vertical-align: middle;\n",
              "    }\n",
              "\n",
              "    .dataframe tbody tr th {\n",
              "        vertical-align: top;\n",
              "    }\n",
              "\n",
              "    .dataframe thead th {\n",
              "        text-align: right;\n",
              "    }\n",
              "</style>\n",
              "<table border=\"1\" class=\"dataframe\">\n",
              "  <thead>\n",
              "    <tr style=\"text-align: right;\">\n",
              "      <th></th>\n",
              "      <th>user</th>\n",
              "      <th>movie</th>\n",
              "      <th>rating</th>\n",
              "      <th>id</th>\n",
              "      <th>names</th>\n",
              "    </tr>\n",
              "  </thead>\n",
              "  <tbody>\n",
              "    <tr>\n",
              "      <th>0</th>\n",
              "      <td>2783</td>\n",
              "      <td>1253</td>\n",
              "      <td>5</td>\n",
              "      <td>2783_1253</td>\n",
              "      <td>1253::Day the Earth Stood Still, The (1951)::D...</td>\n",
              "    </tr>\n",
              "    <tr>\n",
              "      <th>1</th>\n",
              "      <td>2788</td>\n",
              "      <td>1253</td>\n",
              "      <td>4</td>\n",
              "      <td>2788_1253</td>\n",
              "      <td>1253::Day the Earth Stood Still, The (1951)::D...</td>\n",
              "    </tr>\n",
              "    <tr>\n",
              "      <th>2</th>\n",
              "      <td>2789</td>\n",
              "      <td>1253</td>\n",
              "      <td>4</td>\n",
              "      <td>2789_1253</td>\n",
              "      <td>1253::Day the Earth Stood Still, The (1951)::D...</td>\n",
              "    </tr>\n",
              "    <tr>\n",
              "      <th>3</th>\n",
              "      <td>2794</td>\n",
              "      <td>1253</td>\n",
              "      <td>5</td>\n",
              "      <td>2794_1253</td>\n",
              "      <td>1253::Day the Earth Stood Still, The (1951)::D...</td>\n",
              "    </tr>\n",
              "    <tr>\n",
              "      <th>4</th>\n",
              "      <td>2795</td>\n",
              "      <td>1253</td>\n",
              "      <td>4</td>\n",
              "      <td>2795_1253</td>\n",
              "      <td>1253::Day the Earth Stood Still, The (1951)::D...</td>\n",
              "    </tr>\n",
              "  </tbody>\n",
              "</table>\n",
              "</div>"
            ],
            "text/plain": [
              "   user  movie  rating         id  \\\n",
              "0  2783   1253       5  2783_1253   \n",
              "1  2788   1253       4  2788_1253   \n",
              "2  2789   1253       4  2789_1253   \n",
              "3  2794   1253       5  2794_1253   \n",
              "4  2795   1253       4  2795_1253   \n",
              "\n",
              "                                               names  \n",
              "0  1253::Day the Earth Stood Still, The (1951)::D...  \n",
              "1  1253::Day the Earth Stood Still, The (1951)::D...  \n",
              "2  1253::Day the Earth Stood Still, The (1951)::D...  \n",
              "3  1253::Day the Earth Stood Still, The (1951)::D...  \n",
              "4  1253::Day the Earth Stood Still, The (1951)::D...  "
            ]
          },
          "metadata": {
            "tags": []
          },
          "execution_count": 65
        }
      ]
    },
    {
      "metadata": {
        "id": "uGYWc9zo5mP1",
        "colab_type": "text"
      },
      "cell_type": "markdown",
      "source": [
        "###Data Cleaning"
      ]
    },
    {
      "metadata": {
        "id": "a_zxlXjs5q0o",
        "colab_type": "code",
        "outputId": "da4df4cd-d85b-4fe2-f881-18c26fe906f7",
        "colab": {
          "base_uri": "https://localhost:8080/",
          "height": 170
        }
      },
      "cell_type": "code",
      "source": [
        "df = df.dropna()\n",
        "df.info()"
      ],
      "execution_count": 0,
      "outputs": [
        {
          "output_type": "stream",
          "text": [
            "<class 'pandas.core.frame.DataFrame'>\n",
            "Int64Index: 500100 entries, 0 to 500099\n",
            "Data columns (total 4 columns):\n",
            "user      500100 non-null int64\n",
            "movie     500100 non-null int64\n",
            "rating    500100 non-null int64\n",
            "id        500100 non-null object\n",
            "dtypes: int64(3), object(1)\n",
            "memory usage: 19.1+ MB\n"
          ],
          "name": "stdout"
        }
      ]
    },
    {
      "metadata": {
        "id": "n_gYqeJr5yPU",
        "colab_type": "code",
        "outputId": "7c19cd2f-a6e2-4e0d-a1d9-84e3fad24970",
        "colab": {
          "base_uri": "https://localhost:8080/",
          "height": 170
        }
      },
      "cell_type": "code",
      "source": [
        "#convert all type into int\n",
        "df[['id']] = df[['id']].astype(int)\n",
        "df.info()"
      ],
      "execution_count": 0,
      "outputs": [
        {
          "output_type": "stream",
          "text": [
            "<class 'pandas.core.frame.DataFrame'>\n",
            "Int64Index: 500100 entries, 0 to 500099\n",
            "Data columns (total 4 columns):\n",
            "user      500100 non-null int64\n",
            "movie     500100 non-null int64\n",
            "rating    500100 non-null int64\n",
            "id        500100 non-null int64\n",
            "dtypes: int64(4)\n",
            "memory usage: 19.1 MB\n"
          ],
          "name": "stdout"
        }
      ]
    },
    {
      "metadata": {
        "id": "MKVuxsXQgaM7",
        "colab_type": "code",
        "outputId": "05781dd4-90a7-4307-f262-362984b6775e",
        "colab": {
          "base_uri": "https://localhost:8080/",
          "height": 204
        }
      },
      "cell_type": "code",
      "source": [
        "df.head()"
      ],
      "execution_count": 0,
      "outputs": [
        {
          "output_type": "execute_result",
          "data": {
            "text/html": [
              "<div>\n",
              "<style scoped>\n",
              "    .dataframe tbody tr th:only-of-type {\n",
              "        vertical-align: middle;\n",
              "    }\n",
              "\n",
              "    .dataframe tbody tr th {\n",
              "        vertical-align: top;\n",
              "    }\n",
              "\n",
              "    .dataframe thead th {\n",
              "        text-align: right;\n",
              "    }\n",
              "</style>\n",
              "<table border=\"1\" class=\"dataframe\">\n",
              "  <thead>\n",
              "    <tr style=\"text-align: right;\">\n",
              "      <th></th>\n",
              "      <th>user</th>\n",
              "      <th>movie</th>\n",
              "      <th>rating</th>\n",
              "      <th>id</th>\n",
              "    </tr>\n",
              "  </thead>\n",
              "  <tbody>\n",
              "    <tr>\n",
              "      <th>0</th>\n",
              "      <td>2783</td>\n",
              "      <td>1253</td>\n",
              "      <td>5</td>\n",
              "      <td>27831253</td>\n",
              "    </tr>\n",
              "    <tr>\n",
              "      <th>1</th>\n",
              "      <td>2783</td>\n",
              "      <td>589</td>\n",
              "      <td>5</td>\n",
              "      <td>2783589</td>\n",
              "    </tr>\n",
              "    <tr>\n",
              "      <th>2</th>\n",
              "      <td>2783</td>\n",
              "      <td>1270</td>\n",
              "      <td>4</td>\n",
              "      <td>27831270</td>\n",
              "    </tr>\n",
              "    <tr>\n",
              "      <th>3</th>\n",
              "      <td>2783</td>\n",
              "      <td>1274</td>\n",
              "      <td>4</td>\n",
              "      <td>27831274</td>\n",
              "    </tr>\n",
              "    <tr>\n",
              "      <th>4</th>\n",
              "      <td>2783</td>\n",
              "      <td>741</td>\n",
              "      <td>5</td>\n",
              "      <td>2783741</td>\n",
              "    </tr>\n",
              "  </tbody>\n",
              "</table>\n",
              "</div>"
            ],
            "text/plain": [
              "   user  movie  rating        id\n",
              "0  2783   1253       5  27831253\n",
              "1  2783    589       5   2783589\n",
              "2  2783   1270       4  27831270\n",
              "3  2783   1274       4  27831274\n",
              "4  2783    741       5   2783741"
            ]
          },
          "metadata": {
            "tags": []
          },
          "execution_count": 37
        }
      ]
    },
    {
      "metadata": {
        "id": "CgCV_ewC6oOM",
        "colab_type": "code",
        "outputId": "530288c5-96b8-49e0-d627-d87451bbaef8",
        "colab": {
          "base_uri": "https://localhost:8080/",
          "height": 34
        }
      },
      "cell_type": "code",
      "source": [
        "#define whether need to trim the data\n",
        "print('Original Shape: {}'.format(df.shape))"
      ],
      "execution_count": 0,
      "outputs": [
        {
          "output_type": "stream",
          "text": [
            "Original Shape: (500100, 4)\n"
          ],
          "name": "stdout"
        }
      ]
    },
    {
      "metadata": {
        "id": "ZAHI2OchxX4e",
        "colab_type": "text"
      },
      "cell_type": "markdown",
      "source": [
        "###movie name"
      ]
    },
    {
      "metadata": {
        "id": "0slcelXD6u-D",
        "colab_type": "text"
      },
      "cell_type": "markdown",
      "source": [
        "##EDA"
      ]
    },
    {
      "metadata": {
        "id": "gWFS9czo8-fM",
        "colab_type": "code",
        "outputId": "a09e2341-6ddf-469b-9bd9-1965fe306986",
        "colab": {
          "base_uri": "https://localhost:8080/",
          "height": 204
        }
      },
      "cell_type": "code",
      "source": [
        "#count the rating number of each movie\n",
        "movie = df[['movie','rating']].groupby(['movie']).agg(['mean', 'count'])\n",
        "#movie = movie.rename(columns={ movie.columns[1]: \"\" })\n",
        "movie.columns = ['mean', 'total_number'] + movie.columns[2:].tolist()\n",
        "movie = movie.reset_index()\n",
        "movie.head()"
      ],
      "execution_count": 0,
      "outputs": [
        {
          "output_type": "execute_result",
          "data": {
            "text/html": [
              "<div>\n",
              "<style scoped>\n",
              "    .dataframe tbody tr th:only-of-type {\n",
              "        vertical-align: middle;\n",
              "    }\n",
              "\n",
              "    .dataframe tbody tr th {\n",
              "        vertical-align: top;\n",
              "    }\n",
              "\n",
              "    .dataframe thead th {\n",
              "        text-align: right;\n",
              "    }\n",
              "</style>\n",
              "<table border=\"1\" class=\"dataframe\">\n",
              "  <thead>\n",
              "    <tr style=\"text-align: right;\">\n",
              "      <th></th>\n",
              "      <th>movie</th>\n",
              "      <th>mean</th>\n",
              "      <th>total_number</th>\n",
              "    </tr>\n",
              "  </thead>\n",
              "  <tbody>\n",
              "    <tr>\n",
              "      <th>0</th>\n",
              "      <td>1</td>\n",
              "      <td>4.146630</td>\n",
              "      <td>1098</td>\n",
              "    </tr>\n",
              "    <tr>\n",
              "      <th>1</th>\n",
              "      <td>2</td>\n",
              "      <td>3.230769</td>\n",
              "      <td>364</td>\n",
              "    </tr>\n",
              "    <tr>\n",
              "      <th>2</th>\n",
              "      <td>3</td>\n",
              "      <td>2.977401</td>\n",
              "      <td>177</td>\n",
              "    </tr>\n",
              "    <tr>\n",
              "      <th>3</th>\n",
              "      <td>4</td>\n",
              "      <td>2.770833</td>\n",
              "      <td>96</td>\n",
              "    </tr>\n",
              "    <tr>\n",
              "      <th>4</th>\n",
              "      <td>5</td>\n",
              "      <td>2.960526</td>\n",
              "      <td>152</td>\n",
              "    </tr>\n",
              "  </tbody>\n",
              "</table>\n",
              "</div>"
            ],
            "text/plain": [
              "   movie      mean  total_number\n",
              "0      1  4.146630          1098\n",
              "1      2  3.230769           364\n",
              "2      3  2.977401           177\n",
              "3      4  2.770833            96\n",
              "4      5  2.960526           152"
            ]
          },
          "metadata": {
            "tags": []
          },
          "execution_count": 18
        }
      ]
    },
    {
      "metadata": {
        "id": "Hp6rbnK_UcfC",
        "colab_type": "code",
        "outputId": "df324ef0-5e00-4e7f-d788-6214740e4a19",
        "colab": {
          "base_uri": "https://localhost:8080/",
          "height": 463
        }
      },
      "cell_type": "code",
      "source": [
        "#plot the distribution of the movie ratings\n",
        "import seaborn as sns\n",
        "sns.set(color_codes=True)\n",
        "sns.distplot(movie['mean'])"
      ],
      "execution_count": 0,
      "outputs": [
        {
          "output_type": "stream",
          "text": [
            "/usr/local/lib/python3.6/dist-packages/matplotlib/axes/_axes.py:6521: MatplotlibDeprecationWarning:\n",
            "\n",
            "\n",
            "The 'normed' kwarg was deprecated in Matplotlib 2.1 and will be removed in 3.1. Use 'density' instead.\n",
            "\n"
          ],
          "name": "stderr"
        },
        {
          "output_type": "execute_result",
          "data": {
            "text/plain": [
              "<matplotlib.axes._subplots.AxesSubplot at 0x7f87de624710>"
            ]
          },
          "metadata": {
            "tags": []
          },
          "execution_count": 26
        },
        {
          "output_type": "display_data",
          "data": {
            "image/png": "[encoded data removed]",
            "text/plain": [
              "<Figure size 576x396 with 1 Axes>"
            ]
          },
          "metadata": {
            "tags": []
          }
        }
      ]
    },
    {
      "metadata": {
        "id": "VgZUdWKiUsOP",
        "colab_type": "code",
        "outputId": "51fe4277-e0d4-4c80-cebd-f38cdd603a96",
        "colab": {
          "base_uri": "https://localhost:8080/",
          "height": 463
        }
      },
      "cell_type": "code",
      "source": [
        "#distribution of amount of movie ratings\n",
        "sns.distplot(movie['total_number'])"
      ],
      "execution_count": 0,
      "outputs": [
        {
          "output_type": "stream",
          "text": [
            "/usr/local/lib/python3.6/dist-packages/matplotlib/axes/_axes.py:6521: MatplotlibDeprecationWarning:\n",
            "\n",
            "\n",
            "The 'normed' kwarg was deprecated in Matplotlib 2.1 and will be removed in 3.1. Use 'density' instead.\n",
            "\n"
          ],
          "name": "stderr"
        },
        {
          "output_type": "execute_result",
          "data": {
            "text/plain": [
              "<matplotlib.axes._subplots.AxesSubplot at 0x7f87dba4bf98>"
            ]
          },
          "metadata": {
            "tags": []
          },
          "execution_count": 27
        },
        {
          "output_type": "display_data",
          "data": {
            "image/png": "[encoded data removed]",
            "text/plain": [
              "<Figure size 576x396 with 1 Axes>"
            ]
          },
          "metadata": {
            "tags": []
          }
        }
      ]
    },
    {
      "metadata": {
        "id": "5vx4brnPfCDV",
        "colab_type": "text"
      },
      "cell_type": "markdown",
      "source": [
        "##Modeling"
      ]
    },
    {
      "metadata": {
        "id": "Gc5tj5x0ICrn",
        "colab_type": "text"
      },
      "cell_type": "markdown",
      "source": [
        "###Recommend with Collaborative Filtering"
      ]
    },
    {
      "metadata": {
        "id": "02B-X4CXfF_U",
        "colab_type": "code",
        "outputId": "3999cf0e-7a36-4013-e07d-7f18d1fb72fc",
        "colab": {
          "base_uri": "https://localhost:8080/",
          "height": 612
        }
      },
      "cell_type": "code",
      "source": [
        "from surprise import Reader, Dataset, SVD, evaluate\n",
        "#Recommend with Collaborative Filtering\n",
        "reader = Reader()\n",
        "\n",
        "# get just top 100K rows for faster run time\n",
        "data = Dataset.load_from_df(df[['user', 'movie', 'rating']][:100000], reader)\n",
        "data.split(n_folds=3)\n",
        "\n",
        "svd = SVD()\n",
        "evaluate(svd, data, measures=['RMSE', 'MAE'])"
      ],
      "execution_count": 0,
      "outputs": [
        {
          "output_type": "stream",
          "text": [
            "/usr/local/lib/python3.6/dist-packages/surprise/evaluate.py:66: UserWarning:\n",
            "\n",
            "The evaluate() method is deprecated. Please use model_selection.cross_validate() instead.\n",
            "\n",
            "/usr/local/lib/python3.6/dist-packages/surprise/dataset.py:193: UserWarning:\n",
            "\n",
            "Using data.split() or using load_from_folds() without using a CV iterator is now deprecated. \n",
            "\n"
          ],
          "name": "stderr"
        },
        {
          "output_type": "stream",
          "text": [
            "Evaluating RMSE, MAE of algorithm SVD.\n",
            "\n",
            "------------\n",
            "Fold 1\n",
            "RMSE: 0.9350\n",
            "MAE:  0.7416\n",
            "------------\n",
            "Fold 2\n",
            "RMSE: 0.9285\n",
            "MAE:  0.7326\n",
            "------------\n",
            "Fold 3\n",
            "RMSE: 0.9350\n",
            "MAE:  0.7397\n",
            "------------\n",
            "------------\n",
            "Mean RMSE: 0.9328\n",
            "Mean MAE : 0.7380\n",
            "------------\n",
            "------------\n"
          ],
          "name": "stdout"
        },
        {
          "output_type": "execute_result",
          "data": {
            "text/plain": [
              "CaseInsensitiveDefaultDict(list,\n",
              "                           {'mae': [0.7416357310685653,\n",
              "                             0.7325557912489986,\n",
              "                             0.7397102445835594],\n",
              "                            'rmse': [0.9349870082534871,\n",
              "                             0.9284623564544477,\n",
              "                             0.9350244769162819]})"
            ]
          },
          "metadata": {
            "tags": []
          },
          "execution_count": 80
        }
      ]
    },
    {
      "metadata": {
        "id": "X6rcfYkigv1B",
        "colab_type": "code",
        "outputId": "c4e3dccd-228f-41ae-a3b2-46651dd55988",
        "colab": {
          "base_uri": "https://localhost:8080/",
          "height": 340
        }
      },
      "cell_type": "code",
      "source": [
        "#Below is what user 2783 most like (rating as 5) in the past:\n",
        "user_2783 = with_movie_name[(with_movie_name['user'] == 2783) & (with_movie_name['rating'] == 5)]\n",
        "user_2783 = user_2783.drop(columns = df[['id']])\n",
        "print(user_2783)"
      ],
      "execution_count": 0,
      "outputs": [
        {
          "output_type": "stream",
          "text": [
            "       user  movie  rating                                              names\n",
            "0      2783   1253       5  1253::Day the Earth Stood Still, The (1951)::D...\n",
            "289    2783    589       5  589::Terminator 2: Judgment Day (1991)::Action...\n",
            "3232   2783    741       5  741::Ghost in the Shell (Kokaku kidotai) (1995...\n",
            "3375   2783    750       5  750::Dr. Strangelove or: How I Learned to Stop...\n",
            "4087   2783    924       5  924::2001: A Space Odyssey (1968)::Drama|Myste...\n",
            "10481  2783   1301       5              1301::Forbidden Planet (1956)::Sci-Fi\n",
            "15236  2783   3175       5  3175::Galaxy Quest (1999)::Adventure|Comedy|Sc...\n",
            "18137  2783   1584       5                 1584::Contact (1997)::Drama|Sci-Fi\n",
            "18823  2783   1748       5  1748::Dark City (1998)::Film-Noir|Sci-Fi|Thriller\n",
            "19246  2783   2553       5  2553::Village of the Damned (1960)::Horror|Sci...\n",
            "19370  2783   2571       5   2571::Matrix, The (1999)::Action|Sci-Fi|Thriller\n",
            "20743  2783   3527       5      3527::Predator (1987)::Action|Sci-Fi|Thriller\n",
            "21424  2783   1019       5  1019::20,000 Leagues Under the Sea (1954)::Adv...\n",
            "22295  2783   1965       5               1965::Repo Man (1984)::Comedy|Sci-Fi\n",
            "23462  2783   3576       5     3576::Hidden, The (1987)::Action|Horror|Sci-Fi\n",
            "23602  2783    527       5            527::Schindler's List (1993)::Drama|War\n",
            "29347  2783   1077       5                1077::Sleeper (1973)::Comedy|Sci-Fi\n",
            "29768  2783   2968       5  2968::Time Bandits (1981)::Adventure|Fantasy|S...\n"
          ],
          "name": "stdout"
        }
      ]
    },
    {
      "metadata": {
        "id": "MD8zah8Nhvqn",
        "colab_type": "code",
        "outputId": "61bb57ac-142a-4a66-cf21-2bba62988a8e",
        "colab": {
          "base_uri": "https://localhost:8080/",
          "height": 427
        }
      },
      "cell_type": "code",
      "source": [
        "#Let's predict which movies user 2783 would love to watch\n",
        "user_pred_2783 = movie_name.copy()\n",
        "user_pred_2783 = user_pred_2783.reset_index()\n",
        "\n",
        "# getting full dataset\n",
        "data = Dataset.load_from_df(df[['user', 'movie', 'rating']], reader)\n",
        "\n",
        "trainset = data.build_full_trainset()\n",
        "svd.train(trainset)\n",
        "\n",
        "user_pred_2783['Estimate_Score'] = user_pred_2783['movie'].apply(lambda x: svd.predict(2783, x).est)\n",
        "user_pred_2783 = user_pred_2783.sort_values('Estimate_Score', ascending=False)\n",
        "user_pred_2783.head(10)"
      ],
      "execution_count": 0,
      "outputs": [
        {
          "output_type": "stream",
          "text": [
            "/usr/local/lib/python3.6/dist-packages/surprise/prediction_algorithms/algo_base.py:51: UserWarning:\n",
            "\n",
            "train() is deprecated. Use fit() instead\n",
            "\n"
          ],
          "name": "stderr"
        },
        {
          "output_type": "execute_result",
          "data": {
            "text/html": [
              "<div>\n",
              "<style scoped>\n",
              "    .dataframe tbody tr th:only-of-type {\n",
              "        vertical-align: middle;\n",
              "    }\n",
              "\n",
              "    .dataframe tbody tr th {\n",
              "        vertical-align: top;\n",
              "    }\n",
              "\n",
              "    .dataframe thead th {\n",
              "        text-align: right;\n",
              "    }\n",
              "</style>\n",
              "<table border=\"1\" class=\"dataframe\">\n",
              "  <thead>\n",
              "    <tr style=\"text-align: right;\">\n",
              "      <th></th>\n",
              "      <th>index</th>\n",
              "      <th>movie</th>\n",
              "      <th>names</th>\n",
              "      <th>Estimate_Score</th>\n",
              "    </tr>\n",
              "  </thead>\n",
              "  <tbody>\n",
              "    <tr>\n",
              "      <th>2836</th>\n",
              "      <td>2836</td>\n",
              "      <td>2905</td>\n",
              "      <td>2905::Sanjuro (1962)::Action|Adventure</td>\n",
              "      <td>4.918621</td>\n",
              "    </tr>\n",
              "    <tr>\n",
              "      <th>604</th>\n",
              "      <td>604</td>\n",
              "      <td>608</td>\n",
              "      <td>608::Fargo (1996)::Crime|Drama|Thriller</td>\n",
              "      <td>4.896635</td>\n",
              "    </tr>\n",
              "    <tr>\n",
              "      <th>847</th>\n",
              "      <td>847</td>\n",
              "      <td>858</td>\n",
              "      <td>858::Godfather, The (1972)::Action|Crime|Drama</td>\n",
              "      <td>4.782098</td>\n",
              "    </tr>\n",
              "    <tr>\n",
              "      <th>740</th>\n",
              "      <td>740</td>\n",
              "      <td>750</td>\n",
              "      <td>750::Dr. Strangelove or: How I Learned to Stop...</td>\n",
              "      <td>4.766366</td>\n",
              "    </tr>\n",
              "    <tr>\n",
              "      <th>523</th>\n",
              "      <td>523</td>\n",
              "      <td>527</td>\n",
              "      <td>527::Schindler's List (1993)::Drama|War</td>\n",
              "      <td>4.762625</td>\n",
              "    </tr>\n",
              "    <tr>\n",
              "      <th>3065</th>\n",
              "      <td>3065</td>\n",
              "      <td>3134</td>\n",
              "      <td>3134::Grand Illusion (Grande illusion, La) (19...</td>\n",
              "      <td>4.760847</td>\n",
              "    </tr>\n",
              "    <tr>\n",
              "      <th>2255</th>\n",
              "      <td>2255</td>\n",
              "      <td>2324</td>\n",
              "      <td>2324::Life Is Beautiful (La Vita è bella) (199...</td>\n",
              "      <td>4.759253</td>\n",
              "    </tr>\n",
              "    <tr>\n",
              "      <th>2134</th>\n",
              "      <td>2134</td>\n",
              "      <td>2203</td>\n",
              "      <td>2203::Shadow of a Doubt (1943)::Film-Noir|Thri...</td>\n",
              "      <td>4.744759</td>\n",
              "    </tr>\n",
              "    <tr>\n",
              "      <th>662</th>\n",
              "      <td>662</td>\n",
              "      <td>668</td>\n",
              "      <td>668::Pather Panchali (1955)::Drama</td>\n",
              "      <td>4.741984</td>\n",
              "    </tr>\n",
              "    <tr>\n",
              "      <th>537</th>\n",
              "      <td>537</td>\n",
              "      <td>541</td>\n",
              "      <td>541::Blade Runner (1982)::Film-Noir|Sci-Fi</td>\n",
              "      <td>4.721818</td>\n",
              "    </tr>\n",
              "  </tbody>\n",
              "</table>\n",
              "</div>"
            ],
            "text/plain": [
              "      index  movie                                              names  \\\n",
              "2836   2836   2905             2905::Sanjuro (1962)::Action|Adventure   \n",
              "604     604    608            608::Fargo (1996)::Crime|Drama|Thriller   \n",
              "847     847    858     858::Godfather, The (1972)::Action|Crime|Drama   \n",
              "740     740    750  750::Dr. Strangelove or: How I Learned to Stop...   \n",
              "523     523    527            527::Schindler's List (1993)::Drama|War   \n",
              "3065   3065   3134  3134::Grand Illusion (Grande illusion, La) (19...   \n",
              "2255   2255   2324  2324::Life Is Beautiful (La Vita è bella) (199...   \n",
              "2134   2134   2203  2203::Shadow of a Doubt (1943)::Film-Noir|Thri...   \n",
              "662     662    668                 668::Pather Panchali (1955)::Drama   \n",
              "537     537    541         541::Blade Runner (1982)::Film-Noir|Sci-Fi   \n",
              "\n",
              "      Estimate_Score  \n",
              "2836        4.918621  \n",
              "604         4.896635  \n",
              "847         4.782098  \n",
              "740         4.766366  \n",
              "523         4.762625  \n",
              "3065        4.760847  \n",
              "2255        4.759253  \n",
              "2134        4.744759  \n",
              "662         4.741984  \n",
              "537         4.721818  "
            ]
          },
          "metadata": {
            "tags": []
          },
          "execution_count": 132
        }
      ]
    }
  ]
}